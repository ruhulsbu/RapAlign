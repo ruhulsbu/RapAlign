{
 "cells": [
  {
   "cell_type": "code",
   "execution_count": 18,
   "metadata": {
    "collapsed": false
   },
   "outputs": [],
   "source": [
    "import csv\n",
    "import numpy as np\n",
    "import pandas as pd\n",
    "import matplotlib.pyplot as plt\n",
    "\n",
    "cnames = ['ref_name', 'ref_dir', 'read_name', \n",
    "          'nanostar_ref_len', 'nanostar_ref_start', 'nanostar_read_len', \n",
    "          'nanostar_alignment_len', 'nanostar_identity', 'nanostar_insertion', 'nanostar_deletion' , 'nanostar_mismatch',  \n",
    "          'star_ref_len', 'star_ref_start', 'star_read_len', \n",
    "          'star_alignment_len', 'star_identity', 'star_insertion', 'star_deletion' , 'star_mismatch', 'status']\n",
    "df_details = pd.read_csv('../combine_lab/NanoSTAR_vs_STAR_comparison.detail', \n",
    "                 header=None, names=cnames)"
   ]
  },
  {
   "cell_type": "code",
   "execution_count": 19,
   "metadata": {
    "collapsed": false
   },
   "outputs": [
    {
     "data": {
      "text/html": [
       "<div>\n",
       "<table border=\"1\" class=\"dataframe\">\n",
       "  <thead>\n",
       "    <tr style=\"text-align: right;\">\n",
       "      <th></th>\n",
       "      <th>count</th>\n",
       "      <th>mean</th>\n",
       "      <th>std</th>\n",
       "      <th>min</th>\n",
       "      <th>25%</th>\n",
       "      <th>50%</th>\n",
       "      <th>75%</th>\n",
       "      <th>max</th>\n",
       "    </tr>\n",
       "  </thead>\n",
       "  <tbody>\n",
       "    <tr>\n",
       "      <th>ref_dir</th>\n",
       "      <td>1797798.0</td>\n",
       "      <td>242.871781</td>\n",
       "      <td>133.543061</td>\n",
       "      <td>83.0</td>\n",
       "      <td>99.0</td>\n",
       "      <td>163.0</td>\n",
       "      <td>355.0</td>\n",
       "      <td>419.0</td>\n",
       "    </tr>\n",
       "    <tr>\n",
       "      <th>nanostar_ref_len</th>\n",
       "      <td>1797798.0</td>\n",
       "      <td>53.998132</td>\n",
       "      <td>0.148617</td>\n",
       "      <td>36.0</td>\n",
       "      <td>54.0</td>\n",
       "      <td>54.0</td>\n",
       "      <td>54.0</td>\n",
       "      <td>54.0</td>\n",
       "    </tr>\n",
       "    <tr>\n",
       "      <th>nanostar_ref_start</th>\n",
       "      <td>1797798.0</td>\n",
       "      <td>2340.202507</td>\n",
       "      <td>3095.825228</td>\n",
       "      <td>1.0</td>\n",
       "      <td>628.0</td>\n",
       "      <td>1424.0</td>\n",
       "      <td>2931.0</td>\n",
       "      <td>72357.0</td>\n",
       "    </tr>\n",
       "    <tr>\n",
       "      <th>nanostar_read_len</th>\n",
       "      <td>1797798.0</td>\n",
       "      <td>54.000000</td>\n",
       "      <td>0.000000</td>\n",
       "      <td>54.0</td>\n",
       "      <td>54.0</td>\n",
       "      <td>54.0</td>\n",
       "      <td>54.0</td>\n",
       "      <td>54.0</td>\n",
       "    </tr>\n",
       "    <tr>\n",
       "      <th>nanostar_alignment_len</th>\n",
       "      <td>1797798.0</td>\n",
       "      <td>54.001280</td>\n",
       "      <td>0.225467</td>\n",
       "      <td>36.0</td>\n",
       "      <td>54.0</td>\n",
       "      <td>54.0</td>\n",
       "      <td>54.0</td>\n",
       "      <td>62.0</td>\n",
       "    </tr>\n",
       "    <tr>\n",
       "      <th>nanostar_identity</th>\n",
       "      <td>1797798.0</td>\n",
       "      <td>53.793794</td>\n",
       "      <td>1.035428</td>\n",
       "      <td>31.0</td>\n",
       "      <td>54.0</td>\n",
       "      <td>54.0</td>\n",
       "      <td>54.0</td>\n",
       "      <td>54.0</td>\n",
       "    </tr>\n",
       "    <tr>\n",
       "      <th>nanostar_insertion</th>\n",
       "      <td>1797798.0</td>\n",
       "      <td>0.043544</td>\n",
       "      <td>0.378722</td>\n",
       "      <td>0.0</td>\n",
       "      <td>0.0</td>\n",
       "      <td>0.0</td>\n",
       "      <td>0.0</td>\n",
       "      <td>17.0</td>\n",
       "    </tr>\n",
       "    <tr>\n",
       "      <th>nanostar_deletion</th>\n",
       "      <td>1797798.0</td>\n",
       "      <td>0.031912</td>\n",
       "      <td>0.296027</td>\n",
       "      <td>0.0</td>\n",
       "      <td>0.0</td>\n",
       "      <td>0.0</td>\n",
       "      <td>0.0</td>\n",
       "      <td>10.0</td>\n",
       "    </tr>\n",
       "    <tr>\n",
       "      <th>nanostar_mismatch</th>\n",
       "      <td>1797798.0</td>\n",
       "      <td>0.132030</td>\n",
       "      <td>0.706171</td>\n",
       "      <td>0.0</td>\n",
       "      <td>0.0</td>\n",
       "      <td>0.0</td>\n",
       "      <td>0.0</td>\n",
       "      <td>15.0</td>\n",
       "    </tr>\n",
       "    <tr>\n",
       "      <th>star_ref_len</th>\n",
       "      <td>1797798.0</td>\n",
       "      <td>-0.248066</td>\n",
       "      <td>1.667678</td>\n",
       "      <td>-18.0</td>\n",
       "      <td>0.0</td>\n",
       "      <td>0.0</td>\n",
       "      <td>0.0</td>\n",
       "      <td>0.0</td>\n",
       "    </tr>\n",
       "    <tr>\n",
       "      <th>star_ref_start</th>\n",
       "      <td>1797798.0</td>\n",
       "      <td>2330.903081</td>\n",
       "      <td>3092.278278</td>\n",
       "      <td>1.0</td>\n",
       "      <td>619.0</td>\n",
       "      <td>1416.0</td>\n",
       "      <td>2920.0</td>\n",
       "      <td>72357.0</td>\n",
       "    </tr>\n",
       "    <tr>\n",
       "      <th>star_read_len</th>\n",
       "      <td>1797798.0</td>\n",
       "      <td>53.752479</td>\n",
       "      <td>1.667368</td>\n",
       "      <td>36.0</td>\n",
       "      <td>54.0</td>\n",
       "      <td>54.0</td>\n",
       "      <td>54.0</td>\n",
       "      <td>54.0</td>\n",
       "    </tr>\n",
       "    <tr>\n",
       "      <th>star_alignment_len</th>\n",
       "      <td>1797798.0</td>\n",
       "      <td>54.006735</td>\n",
       "      <td>0.139012</td>\n",
       "      <td>54.0</td>\n",
       "      <td>54.0</td>\n",
       "      <td>54.0</td>\n",
       "      <td>54.0</td>\n",
       "      <td>65.0</td>\n",
       "    </tr>\n",
       "    <tr>\n",
       "      <th>star_identity</th>\n",
       "      <td>1797798.0</td>\n",
       "      <td>53.751934</td>\n",
       "      <td>1.667678</td>\n",
       "      <td>36.0</td>\n",
       "      <td>54.0</td>\n",
       "      <td>54.0</td>\n",
       "      <td>54.0</td>\n",
       "      <td>54.0</td>\n",
       "    </tr>\n",
       "    <tr>\n",
       "      <th>star_insertion</th>\n",
       "      <td>1797798.0</td>\n",
       "      <td>0.000546</td>\n",
       "      <td>0.030428</td>\n",
       "      <td>0.0</td>\n",
       "      <td>0.0</td>\n",
       "      <td>0.0</td>\n",
       "      <td>0.0</td>\n",
       "      <td>5.0</td>\n",
       "    </tr>\n",
       "    <tr>\n",
       "      <th>star_deletion</th>\n",
       "      <td>1797798.0</td>\n",
       "      <td>0.006735</td>\n",
       "      <td>0.139012</td>\n",
       "      <td>0.0</td>\n",
       "      <td>0.0</td>\n",
       "      <td>0.0</td>\n",
       "      <td>0.0</td>\n",
       "      <td>11.0</td>\n",
       "    </tr>\n",
       "    <tr>\n",
       "      <th>star_mismatch</th>\n",
       "      <td>1797798.0</td>\n",
       "      <td>0.247521</td>\n",
       "      <td>1.667368</td>\n",
       "      <td>0.0</td>\n",
       "      <td>0.0</td>\n",
       "      <td>0.0</td>\n",
       "      <td>0.0</td>\n",
       "      <td>18.0</td>\n",
       "    </tr>\n",
       "  </tbody>\n",
       "</table>\n",
       "</div>"
      ],
      "text/plain": [
       "                            count         mean          std   min    25%  \\\n",
       "ref_dir                 1797798.0   242.871781   133.543061  83.0   99.0   \n",
       "nanostar_ref_len        1797798.0    53.998132     0.148617  36.0   54.0   \n",
       "nanostar_ref_start      1797798.0  2340.202507  3095.825228   1.0  628.0   \n",
       "nanostar_read_len       1797798.0    54.000000     0.000000  54.0   54.0   \n",
       "nanostar_alignment_len  1797798.0    54.001280     0.225467  36.0   54.0   \n",
       "nanostar_identity       1797798.0    53.793794     1.035428  31.0   54.0   \n",
       "nanostar_insertion      1797798.0     0.043544     0.378722   0.0    0.0   \n",
       "nanostar_deletion       1797798.0     0.031912     0.296027   0.0    0.0   \n",
       "nanostar_mismatch       1797798.0     0.132030     0.706171   0.0    0.0   \n",
       "star_ref_len            1797798.0    -0.248066     1.667678 -18.0    0.0   \n",
       "star_ref_start          1797798.0  2330.903081  3092.278278   1.0  619.0   \n",
       "star_read_len           1797798.0    53.752479     1.667368  36.0   54.0   \n",
       "star_alignment_len      1797798.0    54.006735     0.139012  54.0   54.0   \n",
       "star_identity           1797798.0    53.751934     1.667678  36.0   54.0   \n",
       "star_insertion          1797798.0     0.000546     0.030428   0.0    0.0   \n",
       "star_deletion           1797798.0     0.006735     0.139012   0.0    0.0   \n",
       "star_mismatch           1797798.0     0.247521     1.667368   0.0    0.0   \n",
       "\n",
       "                           50%     75%      max  \n",
       "ref_dir                  163.0   355.0    419.0  \n",
       "nanostar_ref_len          54.0    54.0     54.0  \n",
       "nanostar_ref_start      1424.0  2931.0  72357.0  \n",
       "nanostar_read_len         54.0    54.0     54.0  \n",
       "nanostar_alignment_len    54.0    54.0     62.0  \n",
       "nanostar_identity         54.0    54.0     54.0  \n",
       "nanostar_insertion         0.0     0.0     17.0  \n",
       "nanostar_deletion          0.0     0.0     10.0  \n",
       "nanostar_mismatch          0.0     0.0     15.0  \n",
       "star_ref_len               0.0     0.0      0.0  \n",
       "star_ref_start          1416.0  2920.0  72357.0  \n",
       "star_read_len             54.0    54.0     54.0  \n",
       "star_alignment_len        54.0    54.0     65.0  \n",
       "star_identity             54.0    54.0     54.0  \n",
       "star_insertion             0.0     0.0      5.0  \n",
       "star_deletion              0.0     0.0     11.0  \n",
       "star_mismatch              0.0     0.0     18.0  "
      ]
     },
     "execution_count": 19,
     "metadata": {},
     "output_type": "execute_result"
    }
   ],
   "source": [
    "summary = df_details.describe()\n",
    "summary.transpose()"
   ]
  },
  {
   "cell_type": "code",
   "execution_count": 20,
   "metadata": {
    "collapsed": true
   },
   "outputs": [],
   "source": [
    "%matplotlib inline"
   ]
  },
  {
   "cell_type": "code",
   "execution_count": 23,
   "metadata": {
    "collapsed": false
   },
   "outputs": [
    {
     "name": "stdout",
     "output_type": "stream",
     "text": [
      "Length of NanoSTAR =  1797798\n",
      "Length of STAR =  1797798\n"
     ]
    }
   ],
   "source": [
    "import csv\n",
    "import numpy as np\n",
    "import pandas as pd\n",
    "from matplotlib import pyplot as plt\n",
    "\n",
    "criterion = df_details['status'].map(lambda x: 'Nano' in x or x.startswith('Different'))\n",
    "only_nano = df_details[criterion]\n",
    "print \"Length of NanoSTAR = \", len(only_nano)\n",
    "\n",
    "criterion = df_details['status'].map(lambda x: 'Last' in x or x.startswith('Different'))\n",
    "only_last = df_details[criterion]\n",
    "print \"Length of STAR = \", len(only_last)\n"
   ]
  },
  {
   "cell_type": "markdown",
   "metadata": {},
   "source": [
    "# Histogram of NanoSTAR Accuracy"
   ]
  },
  {
   "cell_type": "code",
   "execution_count": 28,
   "metadata": {
    "collapsed": false
   },
   "outputs": [
    {
     "name": "stdout",
     "output_type": "stream",
     "text": [
      "Mean of %Identity =  99.6157756868\n",
      "Length of NanoSTAR =  1797798\n"
     ]
    },
    {
     "data": {
      "image/png": "[encoded data removed]",
      "text/plain": [
       "<matplotlib.figure.Figure at 0x7fab471b8e90>"
      ]
     },
     "metadata": {},
     "output_type": "display_data"
    }
   ],
   "source": [
    "import numpy as np\n",
    "import matplotlib.pyplot as plt\n",
    "fig = plt.figure(figsize=(8, 6))\n",
    "\n",
    "criterion = only_nano['read_name'].map(lambda x: 'SRR' in x)\n",
    "only_nanostar = 100.00 * only_nano[criterion]['nanostar_identity']/only_nano[criterion]['nanostar_alignment_len']\n",
    "print \"Mean of %Identity = \", (100.00 * sum(only_nano[criterion]['nanostar_identity'])/\n",
    "                               sum(only_nano[criterion]['nanostar_alignment_len'])) \n",
    "\n",
    "only_nanostar = only_nanostar.values\n",
    "print \"Length of NanoSTAR = \", len(only_nanostar)\n",
    "\n",
    "plt.xlabel(\"Accuracy\")\n",
    "plt.ylabel(\"Frequency\")\n",
    "\n",
    "plt.hist(only_nanostar, alpha=0.40, label='NanoSTAR')\n",
    "plt.xlim(60, 100)\n",
    "plt.yscale('log', nonposy='clip')\n",
    "\n",
    "plt.legend(loc='upper right')\n",
    "plt.show()"
   ]
  },
  {
   "cell_type": "markdown",
   "metadata": {},
   "source": [
    "# Histogram of STAR Accuracy"
   ]
  },
  {
   "cell_type": "code",
   "execution_count": 30,
   "metadata": {
    "collapsed": false
   },
   "outputs": [
    {
     "name": "stdout",
     "output_type": "stream",
     "text": [
      "Mean of %Identity =  99.5282038338\n",
      "Length of STAR =  1797798\n"
     ]
    },
    {
     "data": {
      "image/png": "[encoded data removed]",
      "text/plain": [
       "<matplotlib.figure.Figure at 0x7fab470a9dd0>"
      ]
     },
     "metadata": {},
     "output_type": "display_data"
    }
   ],
   "source": [
    "import numpy as np\n",
    "import matplotlib.pyplot as plt\n",
    "fig = plt.figure(figsize=(8, 6))\n",
    "\n",
    "criterion = only_last['read_name'].map(lambda x: 'SRR' in x)\n",
    "only_star = 100.00 * only_last[criterion]['star_identity']/only_last[criterion]['star_alignment_len']\n",
    "print \"Mean of %Identity = \", (100.00 * sum(only_last[criterion]['star_identity'])/\n",
    "                               sum(only_last[criterion]['star_alignment_len'])) \n",
    "\n",
    "only_star = only_star.values\n",
    "print \"Length of STAR = \", len(only_star)\n",
    "\n",
    "plt.xlabel(\"Accuracy\")\n",
    "plt.ylabel(\"Frequency\")\n",
    "\n",
    "plt.hist(only_star, alpha=0.40, color='g', label='RapMap')\n",
    "plt.xlim(60, 100)\n",
    "plt.yscale('log', nonposy='clip')\n",
    "\n",
    "plt.legend(loc='upper right')\n",
    "plt.show()"
   ]
  },
  {
   "cell_type": "code",
   "execution_count": 57,
   "metadata": {
    "collapsed": false
   },
   "outputs": [
    {
     "name": "stdout",
     "output_type": "stream",
     "text": [
      "NanoSTAR VS STAR: The following table is prepared considering only one alignment for each read. We choose the alignment which has maximum identity. If multiple alignments are found with maximum identity then the alignment to the lexicographically smallest reference is chosen.\n",
      "Contained: Alignment coordinates exactly matches while aligning to the same reference for the two different alignment methods. Overlapped: Coordinates of one alignment is found within another while aligning to the same reference. Outside: Alignment coordinates of one alignment is completely outside of another alignment while aligning to the same reference.\n",
      "Only NanoSTAR or STAR: Alignments of these reads were reported to different references by the two alignment methods. We need to analyze the alignments of these reads as well as the 'overlap' and 'outside' reads.\n",
      "\n",
      "Total Nano\tTotal STAR\tContained\tOverlap\t\tOutside\t\tOnly Nano\tOnly STAR\n",
      "==========================================================================================================\n",
      "1797798\t\t1797798\t\t1650839\t\t0\t\t145608\t\t1351\t\t1351\n"
     ]
    }
   ],
   "source": [
    "import csv\n",
    "import numpy as np\n",
    "import pandas as pd\n",
    "from matplotlib import pyplot as plt\n",
    "#from matplotlib_venn import venn3\n",
    "#from matplotlib_venn import venn2\n",
    "\n",
    "#fig = plt.figure(figsize=(16,16))\n",
    "#fig_count = 111#221\n",
    "\n",
    "mytool = 'NanoSTAR'\n",
    "othertool = 'STAR'\n",
    "\"\"\"\n",
    "cnames = ['ref_name', 'ref_dir', 'read_name', \n",
    "          'nano_ref_len', 'nano_ref_start', 'nano_read_len', \n",
    "          'nano_alignment_len', 'nano_identity', 'nano_insertion', 'nano_deletion' , 'nano_mismatch',  \n",
    "          'last_ref_len', 'last_ref_start', 'last_read_len', \n",
    "          'last_alignment_len', 'last_identity', 'last_insertion', 'last_deletion' , 'last_mismatch', 'status']\n",
    "\n",
    "\"\"\"\n",
    "\n",
    "print \"NanoSTAR VS STAR: The following table is prepared considering only one alignment for each read. We choose the alignment which has maximum identity. If multiple alignments are found with maximum identity then the alignment to the lexicographically smallest reference is chosen.\"\n",
    "print \"Contained: Alignment coordinates exactly matches while aligning to the same reference for the two different alignment methods. Overlapped: Coordinates of one alignment is found within another while aligning to the same reference. Outside: Alignment coordinates of one alignment is completely outside of another alignment while aligning to the same reference.\"\n",
    "print \"Only NanoSTAR or STAR: Alignments of these reads were reported to different references by the two alignment methods. We need to analyze the alignments of these reads as well as the \\'overlap\\' and \\'outside\\' reads.\"\n",
    "print \"\"\n",
    "\n",
    "print \"Total Nano\\tTotal STAR\\tContained\\tOverlap\\t\\tOutside\\t\\tOnly Nano\\tOnly STAR\"\n",
    "print \"==========================================================================================================\"\n",
    "\n",
    "criterion = df_details['status'].map(lambda x: 'Nano' in x or x.startswith('Different'))\n",
    "nano = df_details[criterion]['read_name']\n",
    "\n",
    "criterion = df_details['status'].map(lambda x: 'Last' in x or x.startswith('Different'))\n",
    "last = df_details[criterion]['read_name']\n",
    "\n",
    "criterion1 = df_details['status'].map(lambda x: 'Contains' in x and x.startswith('Nano'))\n",
    "df_nano = df_details[criterion1]['read_name']\n",
    "\n",
    "criterion2 = df_details['status'].map(lambda x: 'Contains' in x and x.startswith('Last'))\n",
    "df_last = df_details[criterion2]['read_name']\n",
    "\n",
    "criterion3 = df_details['status'].map(lambda x: 'Outside' in x)\n",
    "df_outside = df_details[criterion3]['read_name']\n",
    "\n",
    "criterion4 = df_details['status'].map(lambda x: 'Overlap' in x)\n",
    "df_overlap = df_details[criterion4]['read_name']\n",
    "\n",
    "totalCommon = len(df_nano) + len(df_last) + len(df_outside) + len(df_overlap)\n",
    "string = str(len(nano)) + \"\\t\\t\"\n",
    "string += str(len(last)) + \"\\t\\t\"\n",
    "string += str(len(df_nano) + len(df_last)) + '\\t\\t'\n",
    "string += str(len(df_overlap)) + '\\t\\t';\n",
    "string += str(len(df_outside)) + '\\t\\t'\n",
    "string += str(len(nano) - totalCommon) + '\\t\\t'\n",
    "string += str(len(last) - totalCommon)\n",
    "print string\n"
   ]
  },
  {
   "cell_type": "markdown",
   "metadata": {},
   "source": [
    "# Analyzing Set of Contained Reads"
   ]
  },
  {
   "cell_type": "code",
   "execution_count": 56,
   "metadata": {
    "collapsed": false
   },
   "outputs": [
    {
     "name": "stdout",
     "output_type": "stream",
     "text": [
      "Length of Contained =  1650839\n",
      "Length of Color Array =  1650839\n"
     ]
    },
    {
     "data": {
      "image/png": "[encoded data removed]",
      "text/plain": [
       "<matplotlib.figure.Figure at 0x7fab473b5c10>"
      ]
     },
     "metadata": {},
     "output_type": "display_data"
    }
   ],
   "source": [
    "import csv\n",
    "import numpy as np\n",
    "import pandas as pd\n",
    "import matplotlib as mpl\n",
    "from matplotlib import pyplot as plt\n",
    "\n",
    "mpl.rcParams.update({'font.size': 12})\n",
    "\n",
    "criterion = df_details['status'].map(lambda x: 'Contains' in x)\n",
    "df_contains = df_details[criterion]\n",
    "print \"Length of Contained = \", len(df_contains)\n",
    "\n",
    "nanostar = df_contains['nanostar_identity'].values \n",
    "star = df_contains['star_identity'].values\n",
    "contains_color = []\n",
    "\n",
    "for i in range(0, len(nanostar)):\n",
    "    diff = nanostar[i] - star[i]\n",
    "    if(diff > 0):\n",
    "        contains_color.append('r')\n",
    "    elif(diff == 0):\n",
    "        contains_color.append('g')\n",
    "    else:\n",
    "        contains_color.append('b')\n",
    "    #if(len(color_array) % 100000 == 0):\n",
    "    #    break\n",
    "\n",
    "print \"Length of Color Array = \", len(contains_color)\n",
    "    \n",
    "fig = plt.figure(figsize=(8, 8))\n",
    "ax = fig.add_subplot(111)\n",
    "ax.set_xlabel('NanoSTAR Accuracy', fontsize=16)\n",
    "ax.set_ylabel('STAR Accuracy', fontsize=16)\n",
    "ax.set_title(\"Scatterplot for Alignment Length\")\n",
    "\n",
    "ax.set_xlim(30, 60)\n",
    "ax.set_ylim(30, 60)\n",
    "\n",
    "plt.figtext(.15,.8, ftext, fontsize=14, ha='left')\n",
    "plt.scatter(nanostar, star, color=contains_color, alpha=0.33, marker='o', label='Contain')\n",
    "\n",
    "plt.legend(loc='upper right')\n",
    "plt.show()\n"
   ]
  },
  {
   "cell_type": "markdown",
   "metadata": {},
   "source": [
    "# Analyzing Set of Outside Reads"
   ]
  },
  {
   "cell_type": "code",
   "execution_count": 55,
   "metadata": {
    "collapsed": false
   },
   "outputs": [
    {
     "name": "stdout",
     "output_type": "stream",
     "text": [
      "Length of Outside =  145608\n",
      "Length of Color Array =  145608\n"
     ]
    },
    {
     "data": {
      "image/png": "[encoded data removed]",
      "text/plain": [
       "<matplotlib.figure.Figure at 0x7fab4765c690>"
      ]
     },
     "metadata": {},
     "output_type": "display_data"
    }
   ],
   "source": [
    "import csv\n",
    "import numpy as np\n",
    "import pandas as pd\n",
    "import matplotlib as mpl\n",
    "from matplotlib import pyplot as plt\n",
    "\n",
    "mpl.rcParams.update({'font.size': 12})\n",
    "\n",
    "criterion = df_details['status'].map(lambda x: 'Outside' in x)\n",
    "df_outside = df_details[criterion]\n",
    "print \"Length of Outside = \", len(df_outside)\n",
    "\n",
    "nanostar = df_outside['nanostar_identity'].values \n",
    "star = df_outside['star_identity'].values\n",
    "outside_color = []\n",
    "\n",
    "for i in range(0, len(nanostar)):\n",
    "    diff = nanostar[i] - star[i]\n",
    "    if(diff > 0):\n",
    "        outside_color.append('r')\n",
    "    elif(diff == 0):\n",
    "        outside_color.append('g')\n",
    "    else:\n",
    "        outside_color.append('b')\n",
    "    #if(len(color_array) % 100000 == 0):\n",
    "    #    break\n",
    "\n",
    "print \"Length of Color Array = \", len(outside_color)\n",
    "    \n",
    "fig = plt.figure(figsize=(8, 8))\n",
    "ax = fig.add_subplot(111)\n",
    "ax.set_xlabel('NanoSTAR Accuracy', fontsize=16)\n",
    "ax.set_ylabel('STAR Accuracy', fontsize=16)\n",
    "ax.set_title(\"Scatterplot for Alignment Length\")\n",
    "\n",
    "ax.set_xlim(30, 60)\n",
    "ax.set_ylim(30, 60)\n",
    "\n",
    "plt.figtext(.15,.8, ftext, fontsize=14, ha='left')\n",
    "plt.scatter(nanostar, star, color=outside_color, alpha=0.33, marker='o', label='Outside')\n",
    "\n",
    "plt.legend(loc='upper right')\n",
    "plt.show()\n"
   ]
  }
 ],
 "metadata": {
  "kernelspec": {
   "display_name": "Python 2",
   "language": "python",
   "name": "python2"
  },
  "language_info": {
   "codemirror_mode": {
    "name": "ipython",
    "version": 2
   },
   "file_extension": ".py",
   "mimetype": "text/x-python",
   "name": "python",
   "nbconvert_exporter": "python",
   "pygments_lexer": "ipython2",
   "version": "2.7.6"
  },
  "widgets": {
   "state": {},
   "version": "1.1.2"
  }
 },
 "nbformat": 4,
 "nbformat_minor": 0
}
