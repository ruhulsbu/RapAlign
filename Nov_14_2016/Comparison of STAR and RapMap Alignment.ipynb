{
 "cells": [
  {
   "cell_type": "code",
   "execution_count": 96,
   "metadata": {
    "collapsed": false
   },
   "outputs": [],
   "source": [
    "import csv\n",
    "import numpy as np\n",
    "import pandas as pd\n",
    "import matplotlib.pyplot as plt\n",
    "\n",
    "cnames = ['ref_name', 'ref_dir', 'read_name', \n",
    "          'star_ref_len', 'star_ref_start', 'star_read_len', \n",
    "          'star_alignment_len', 'star_identity', 'star_insertion', 'star_deletion' , 'star_mismatch',  \n",
    "          'rmap_ref_len', 'rmap_ref_start', 'rmap_read_len', \n",
    "          'rmap_alignment_len', 'rmap_identity', 'rmap_insertion', 'rmap_deletion' , 'rmap_mismatch', 'status']\n",
    "df_details = pd.read_csv('../combine_lab/STAR_vs_RapMap_comparison.detail', \n",
    "                 header=None, names=cnames)"
   ]
  },
  {
   "cell_type": "code",
   "execution_count": 59,
   "metadata": {
    "collapsed": false
   },
   "outputs": [
    {
     "data": {
      "text/html": [
       "<div>\n",
       "<table border=\"1\" class=\"dataframe\">\n",
       "  <thead>\n",
       "    <tr style=\"text-align: right;\">\n",
       "      <th></th>\n",
       "      <th>count</th>\n",
       "      <th>mean</th>\n",
       "      <th>std</th>\n",
       "      <th>min</th>\n",
       "      <th>25%</th>\n",
       "      <th>50%</th>\n",
       "      <th>75%</th>\n",
       "      <th>max</th>\n",
       "    </tr>\n",
       "  </thead>\n",
       "  <tbody>\n",
       "    <tr>\n",
       "      <th>ref_dir</th>\n",
       "      <td>1988214.0</td>\n",
       "      <td>246.086227</td>\n",
       "      <td>133.738864</td>\n",
       "      <td>67.0</td>\n",
       "      <td>99.0</td>\n",
       "      <td>163.0</td>\n",
       "      <td>355.0</td>\n",
       "      <td>441.0</td>\n",
       "    </tr>\n",
       "    <tr>\n",
       "      <th>star_ref_len</th>\n",
       "      <td>1988214.0</td>\n",
       "      <td>-0.224289</td>\n",
       "      <td>1.587431</td>\n",
       "      <td>-18.0</td>\n",
       "      <td>0.0</td>\n",
       "      <td>0.0</td>\n",
       "      <td>0.0</td>\n",
       "      <td>0.0</td>\n",
       "    </tr>\n",
       "    <tr>\n",
       "      <th>star_ref_start</th>\n",
       "      <td>1988214.0</td>\n",
       "      <td>2107.662517</td>\n",
       "      <td>3019.421875</td>\n",
       "      <td>0.0</td>\n",
       "      <td>415.0</td>\n",
       "      <td>1224.0</td>\n",
       "      <td>2674.0</td>\n",
       "      <td>72357.0</td>\n",
       "    </tr>\n",
       "    <tr>\n",
       "      <th>star_read_len</th>\n",
       "      <td>1988214.0</td>\n",
       "      <td>48.604306</td>\n",
       "      <td>15.897743</td>\n",
       "      <td>0.0</td>\n",
       "      <td>54.0</td>\n",
       "      <td>54.0</td>\n",
       "      <td>54.0</td>\n",
       "      <td>54.0</td>\n",
       "    </tr>\n",
       "    <tr>\n",
       "      <th>star_alignment_len</th>\n",
       "      <td>1988214.0</td>\n",
       "      <td>48.834191</td>\n",
       "      <td>15.893854</td>\n",
       "      <td>0.0</td>\n",
       "      <td>54.0</td>\n",
       "      <td>54.0</td>\n",
       "      <td>54.0</td>\n",
       "      <td>65.0</td>\n",
       "    </tr>\n",
       "    <tr>\n",
       "      <th>star_identity</th>\n",
       "      <td>1988214.0</td>\n",
       "      <td>48.603812</td>\n",
       "      <td>15.897612</td>\n",
       "      <td>0.0</td>\n",
       "      <td>54.0</td>\n",
       "      <td>54.0</td>\n",
       "      <td>54.0</td>\n",
       "      <td>54.0</td>\n",
       "    </tr>\n",
       "    <tr>\n",
       "      <th>star_insertion</th>\n",
       "      <td>1988214.0</td>\n",
       "      <td>0.000493</td>\n",
       "      <td>0.028934</td>\n",
       "      <td>0.0</td>\n",
       "      <td>0.0</td>\n",
       "      <td>0.0</td>\n",
       "      <td>0.0</td>\n",
       "      <td>5.0</td>\n",
       "    </tr>\n",
       "    <tr>\n",
       "      <th>star_deletion</th>\n",
       "      <td>1988214.0</td>\n",
       "      <td>0.006090</td>\n",
       "      <td>0.132203</td>\n",
       "      <td>0.0</td>\n",
       "      <td>0.0</td>\n",
       "      <td>0.0</td>\n",
       "      <td>0.0</td>\n",
       "      <td>11.0</td>\n",
       "    </tr>\n",
       "    <tr>\n",
       "      <th>star_mismatch</th>\n",
       "      <td>1988214.0</td>\n",
       "      <td>0.223795</td>\n",
       "      <td>1.587129</td>\n",
       "      <td>0.0</td>\n",
       "      <td>0.0</td>\n",
       "      <td>0.0</td>\n",
       "      <td>0.0</td>\n",
       "      <td>18.0</td>\n",
       "    </tr>\n",
       "    <tr>\n",
       "      <th>rmap_ref_len</th>\n",
       "      <td>1988214.0</td>\n",
       "      <td>22.035365</td>\n",
       "      <td>26.538794</td>\n",
       "      <td>0.0</td>\n",
       "      <td>0.0</td>\n",
       "      <td>0.0</td>\n",
       "      <td>54.0</td>\n",
       "      <td>54.0</td>\n",
       "    </tr>\n",
       "    <tr>\n",
       "      <th>rmap_ref_start</th>\n",
       "      <td>1988214.0</td>\n",
       "      <td>957.826712</td>\n",
       "      <td>2238.388876</td>\n",
       "      <td>0.0</td>\n",
       "      <td>0.0</td>\n",
       "      <td>0.0</td>\n",
       "      <td>1068.0</td>\n",
       "      <td>71930.0</td>\n",
       "    </tr>\n",
       "    <tr>\n",
       "      <th>rmap_read_len</th>\n",
       "      <td>1988214.0</td>\n",
       "      <td>22.036473</td>\n",
       "      <td>26.539852</td>\n",
       "      <td>0.0</td>\n",
       "      <td>0.0</td>\n",
       "      <td>0.0</td>\n",
       "      <td>54.0</td>\n",
       "      <td>54.0</td>\n",
       "    </tr>\n",
       "    <tr>\n",
       "      <th>rmap_alignment_len</th>\n",
       "      <td>1988214.0</td>\n",
       "      <td>22.058810</td>\n",
       "      <td>26.568494</td>\n",
       "      <td>0.0</td>\n",
       "      <td>0.0</td>\n",
       "      <td>0.0</td>\n",
       "      <td>54.0</td>\n",
       "      <td>66.0</td>\n",
       "    </tr>\n",
       "    <tr>\n",
       "      <th>rmap_identity</th>\n",
       "      <td>1988214.0</td>\n",
       "      <td>21.850479</td>\n",
       "      <td>26.338101</td>\n",
       "      <td>0.0</td>\n",
       "      <td>0.0</td>\n",
       "      <td>0.0</td>\n",
       "      <td>54.0</td>\n",
       "      <td>54.0</td>\n",
       "    </tr>\n",
       "    <tr>\n",
       "      <th>rmap_insertion</th>\n",
       "      <td>1988214.0</td>\n",
       "      <td>0.040440</td>\n",
       "      <td>0.353798</td>\n",
       "      <td>0.0</td>\n",
       "      <td>0.0</td>\n",
       "      <td>0.0</td>\n",
       "      <td>0.0</td>\n",
       "      <td>22.0</td>\n",
       "    </tr>\n",
       "    <tr>\n",
       "      <th>rmap_deletion</th>\n",
       "      <td>1988214.0</td>\n",
       "      <td>0.040199</td>\n",
       "      <td>0.343855</td>\n",
       "      <td>0.0</td>\n",
       "      <td>0.0</td>\n",
       "      <td>0.0</td>\n",
       "      <td>0.0</td>\n",
       "      <td>16.0</td>\n",
       "    </tr>\n",
       "    <tr>\n",
       "      <th>rmap_mismatch</th>\n",
       "      <td>1988214.0</td>\n",
       "      <td>0.127692</td>\n",
       "      <td>0.806846</td>\n",
       "      <td>0.0</td>\n",
       "      <td>0.0</td>\n",
       "      <td>0.0</td>\n",
       "      <td>0.0</td>\n",
       "      <td>22.0</td>\n",
       "    </tr>\n",
       "  </tbody>\n",
       "</table>\n",
       "</div>"
      ],
      "text/plain": [
       "                        count         mean          std   min    25%     50%  \\\n",
       "ref_dir             1988214.0   246.086227   133.738864  67.0   99.0   163.0   \n",
       "star_ref_len        1988214.0    -0.224289     1.587431 -18.0    0.0     0.0   \n",
       "star_ref_start      1988214.0  2107.662517  3019.421875   0.0  415.0  1224.0   \n",
       "star_read_len       1988214.0    48.604306    15.897743   0.0   54.0    54.0   \n",
       "star_alignment_len  1988214.0    48.834191    15.893854   0.0   54.0    54.0   \n",
       "star_identity       1988214.0    48.603812    15.897612   0.0   54.0    54.0   \n",
       "star_insertion      1988214.0     0.000493     0.028934   0.0    0.0     0.0   \n",
       "star_deletion       1988214.0     0.006090     0.132203   0.0    0.0     0.0   \n",
       "star_mismatch       1988214.0     0.223795     1.587129   0.0    0.0     0.0   \n",
       "rmap_ref_len        1988214.0    22.035365    26.538794   0.0    0.0     0.0   \n",
       "rmap_ref_start      1988214.0   957.826712  2238.388876   0.0    0.0     0.0   \n",
       "rmap_read_len       1988214.0    22.036473    26.539852   0.0    0.0     0.0   \n",
       "rmap_alignment_len  1988214.0    22.058810    26.568494   0.0    0.0     0.0   \n",
       "rmap_identity       1988214.0    21.850479    26.338101   0.0    0.0     0.0   \n",
       "rmap_insertion      1988214.0     0.040440     0.353798   0.0    0.0     0.0   \n",
       "rmap_deletion       1988214.0     0.040199     0.343855   0.0    0.0     0.0   \n",
       "rmap_mismatch       1988214.0     0.127692     0.806846   0.0    0.0     0.0   \n",
       "\n",
       "                       75%      max  \n",
       "ref_dir              355.0    441.0  \n",
       "star_ref_len           0.0      0.0  \n",
       "star_ref_start      2674.0  72357.0  \n",
       "star_read_len         54.0     54.0  \n",
       "star_alignment_len    54.0     65.0  \n",
       "star_identity         54.0     54.0  \n",
       "star_insertion         0.0      5.0  \n",
       "star_deletion          0.0     11.0  \n",
       "star_mismatch          0.0     18.0  \n",
       "rmap_ref_len          54.0     54.0  \n",
       "rmap_ref_start      1068.0  71930.0  \n",
       "rmap_read_len         54.0     54.0  \n",
       "rmap_alignment_len    54.0     66.0  \n",
       "rmap_identity         54.0     54.0  \n",
       "rmap_insertion         0.0     22.0  \n",
       "rmap_deletion          0.0     16.0  \n",
       "rmap_mismatch          0.0     22.0  "
      ]
     },
     "execution_count": 59,
     "metadata": {},
     "output_type": "execute_result"
    }
   ],
   "source": [
    "summary = df_details.describe()\n",
    "summary.transpose()"
   ]
  },
  {
   "cell_type": "code",
   "execution_count": 56,
   "metadata": {
    "collapsed": true
   },
   "outputs": [],
   "source": [
    "%matplotlib inline"
   ]
  },
  {
   "cell_type": "code",
   "execution_count": 60,
   "metadata": {
    "collapsed": false
   },
   "outputs": [
    {
     "name": "stdout",
     "output_type": "stream",
     "text": [
      "Length of STAR =  1797791\n",
      "Length of RMAP =  811356\n"
     ]
    }
   ],
   "source": [
    "import csv\n",
    "import numpy as np\n",
    "import pandas as pd\n",
    "from matplotlib import pyplot as plt\n",
    "\n",
    "criterion = df_details['status'].map(lambda x: 'Nano' in x or x.startswith('Different'))\n",
    "only_nano = df_details[criterion]\n",
    "print \"Length of STAR = \", len(only_nano)\n",
    "\n",
    "criterion = df_details['status'].map(lambda x: 'Last' in x or x.startswith('Different'))\n",
    "only_last = df_details[criterion]\n",
    "print \"Length of RMAP = \", len(only_last)\n"
   ]
  },
  {
   "cell_type": "markdown",
   "metadata": {},
   "source": [
    "# Histogram of STAR Accuracy"
   ]
  },
  {
   "cell_type": "code",
   "execution_count": 70,
   "metadata": {
    "collapsed": false
   },
   "outputs": [
    {
     "name": "stdout",
     "output_type": "stream",
     "text": [
      "Mean of %Identity =  99.5282421647\n",
      "Length of STAR =  1797791\n"
     ]
    },
    {
     "data": {
      "image/png": "[encoded data removed]",
      "text/plain": [
       "<matplotlib.figure.Figure at 0x7f928d208290>"
      ]
     },
     "metadata": {},
     "output_type": "display_data"
    }
   ],
   "source": [
    "import numpy as np\n",
    "import matplotlib.pyplot as plt\n",
    "fig = plt.figure(figsize=(8, 6))\n",
    "\n",
    "criterion = only_nano['read_name'].map(lambda x: 'SRR' in x)\n",
    "only_star = 100.00 * only_nano[criterion]['star_identity']/only_nano[criterion]['star_alignment_len']\n",
    "print \"Mean of %Identity = \", (100.00 * sum(only_nano[criterion]['star_identity'])/\n",
    "                               sum(only_nano[criterion]['star_alignment_len'])) \n",
    "\n",
    "only_star = only_star.values\n",
    "print \"Length of STAR = \", len(only_star)\n",
    "\n",
    "plt.xlabel(\"Accuracy\")\n",
    "plt.ylabel(\"Frequency\")\n",
    "\n",
    "plt.hist(only_star, alpha=0.40, label='STAR')\n",
    "plt.xlim(30, 100)\n",
    "plt.yscale('log', nonposy='clip')\n",
    "\n",
    "plt.legend(loc='upper right')\n",
    "plt.show()"
   ]
  },
  {
   "cell_type": "markdown",
   "metadata": {},
   "source": [
    "# Histogram of RapMap Accuracy"
   ]
  },
  {
   "cell_type": "code",
   "execution_count": 71,
   "metadata": {
    "collapsed": false
   },
   "outputs": [
    {
     "name": "stdout",
     "output_type": "stream",
     "text": [
      "Mean of %Identity =  99.0555646696\n",
      "Length of RMAP =  811355\n"
     ]
    },
    {
     "data": {
      "image/png": "[encoded data removed]",
      "text/plain": [
       "<matplotlib.figure.Figure at 0x7f9219226d10>"
      ]
     },
     "metadata": {},
     "output_type": "display_data"
    }
   ],
   "source": [
    "import numpy as np\n",
    "import matplotlib.pyplot as plt\n",
    "fig = plt.figure(figsize=(8, 6))\n",
    "\n",
    "criterion = only_last['rmap_identity'].map(lambda x: x > 0.0)\n",
    "only_rmap = 100.00 * only_last[criterion]['rmap_identity']/only_last[criterion]['rmap_alignment_len']\n",
    "print \"Mean of %Identity = \", (100.00 * sum(only_last[criterion]['rmap_identity'])/\n",
    "                               sum(only_last[criterion]['rmap_alignment_len'])) \n",
    "\n",
    "only_rmap = only_rmap.values\n",
    "print \"Length of RMAP = \", len(only_rmap)\n",
    "\n",
    "plt.xlabel(\"Accuracy\")\n",
    "plt.ylabel(\"Frequency\")\n",
    "\n",
    "plt.hist(only_rmap, alpha=0.40, color='g', label='RapMap')\n",
    "plt.xlim(30, 100)\n",
    "plt.yscale('log', nonposy='clip')\n",
    "\n",
    "plt.legend(loc='upper right')\n",
    "plt.show()"
   ]
  },
  {
   "cell_type": "code",
   "execution_count": 72,
   "metadata": {
    "collapsed": false
   },
   "outputs": [
    {
     "name": "stdout",
     "output_type": "stream",
     "text": [
      "1\n"
     ]
    },
    {
     "data": {
      "text/plain": [
       "<matplotlib.figure.Figure at 0x7f92c95a9ad0>"
      ]
     },
     "metadata": {},
     "output_type": "display_data"
    }
   ],
   "source": [
    "import numpy as np\n",
    "import matplotlib.pyplot as plt\n",
    "fig = plt.figure(figsize=(8, 6))\n",
    "\n",
    "criterion = only_last['rmap_identity'].map(lambda x: x == 0.00)\n",
    "print len(only_last[criterion])"
   ]
  },
  {
   "cell_type": "code",
   "execution_count": 91,
   "metadata": {
    "collapsed": false
   },
   "outputs": [
    {
     "name": "stdout",
     "output_type": "stream",
     "text": [
      "STAR VS RAPMAP: The following table is prepared considering only one alignment for each read. We choose the alignment which has maximum identity. If multiple alignments are found with maximum identity then the alignment to the lexicographically smallest reference is chosen.\n",
      "Contained: Alignment coordinates exactly matches while aligning to the same reference for the two different alignment methods. Overlapped: Coordinates of one alignment is found within another while aligning to the same reference. Outside: Alignment coordinates of one alignment is completely outside of another alignment while aligning to the same reference.\n",
      "Only STAR or RAPMAP: Alignments of these reads were reported to different references by the two alignment methods. We need to analyze the alignments of these reads as well as the 'overlap' and 'outside' reads.\n",
      "\n",
      "Total STAR\tTotal RMAP\tContained\tOverlap\t\tOutside\t\tOnly STAR\tOnly RMAP\n",
      "==========================================================================================================\n",
      "1797791\t\t811356\t\t9176\t\t329331\t\t277529\t\t1181755\t\t195320\n"
     ]
    }
   ],
   "source": [
    "import csv\n",
    "import numpy as np\n",
    "import pandas as pd\n",
    "from matplotlib import pyplot as plt\n",
    "#from matplotlib_venn import venn3\n",
    "#from matplotlib_venn import venn2\n",
    "\n",
    "#fig = plt.figure(figsize=(16,16))\n",
    "#fig_count = 111#221\n",
    "\n",
    "mytool = 'STAR'\n",
    "othertool = 'RMAP'\n",
    "\"\"\"\n",
    "cnames = ['ref_name', 'ref_dir', 'read_name', \n",
    "          'nano_ref_len', 'nano_ref_start', 'nano_read_len', \n",
    "          'nano_alignment_len', 'nano_identity', 'nano_insertion', 'nano_deletion' , 'nano_mismatch',  \n",
    "          'last_ref_len', 'last_ref_start', 'last_read_len', \n",
    "          'last_alignment_len', 'last_identity', 'last_insertion', 'last_deletion' , 'last_mismatch', 'status']\n",
    "\n",
    "\"\"\"\n",
    "\n",
    "print \"STAR VS RAPMAP: The following table is prepared considering only one alignment for each read. We choose the alignment which has maximum identity. If multiple alignments are found with maximum identity then the alignment to the lexicographically smallest reference is chosen.\"\n",
    "print \"Contained: Alignment coordinates exactly matches while aligning to the same reference for the two different alignment methods. Overlapped: Coordinates of one alignment is found within another while aligning to the same reference. Outside: Alignment coordinates of one alignment is completely outside of another alignment while aligning to the same reference.\"\n",
    "print \"Only STAR or RAPMAP: Alignments of these reads were reported to different references by the two alignment methods. We need to analyze the alignments of these reads as well as the \\'overlap\\' and \\'outside\\' reads.\"\n",
    "print \"\"\n",
    "\n",
    "print \"Total STAR\\tTotal RMAP\\tContained\\tOverlap\\t\\tOutside\\t\\tOnly STAR\\tOnly RMAP\"\n",
    "print \"==========================================================================================================\"\n",
    "\n",
    "criterion = df_details['status'].map(lambda x: 'Nano' in x or x.startswith('Different'))\n",
    "nano = df_details[criterion]['read_name']\n",
    "\n",
    "criterion = df_details['status'].map(lambda x: 'Last' in x or x.startswith('Different'))\n",
    "last = df_details[criterion]['read_name']\n",
    "\n",
    "criterion1 = df_details['status'].map(lambda x: 'Contains' in x and x.startswith('Nano'))\n",
    "df_nano = df_details[criterion1]['read_name']\n",
    "\n",
    "criterion2 = df_details['status'].map(lambda x: 'Contains' in x and x.startswith('Last'))\n",
    "df_last = df_details[criterion2]['read_name']\n",
    "\n",
    "criterion3 = df_details['status'].map(lambda x: 'Outside' in x)\n",
    "df_outside = df_details[criterion3]['read_name']\n",
    "\n",
    "criterion4 = df_details['status'].map(lambda x: 'Overlap' in x)\n",
    "df_overlap = df_details[criterion4]['read_name']\n",
    "\n",
    "totalCommon = len(df_nano) + len(df_last) + len(df_outside) + len(df_overlap)\n",
    "string = str(len(nano)) + \"\\t\\t\"\n",
    "string += str(len(last)) + \"\\t\\t\"\n",
    "string += str(len(df_nano) + len(df_last)) + '\\t\\t'\n",
    "string += str(len(df_overlap)) + '\\t\\t';\n",
    "string += str(len(df_outside)) + '\\t\\t'\n",
    "string += str(len(nano) - totalCommon) + '\\t\\t'\n",
    "string += str(len(last) - totalCommon)\n",
    "print string\n"
   ]
  },
  {
   "cell_type": "markdown",
   "metadata": {},
   "source": [
    "# Analyzing Set of Contained Reads"
   ]
  },
  {
   "cell_type": "code",
   "execution_count": 98,
   "metadata": {
    "collapsed": false
   },
   "outputs": [
    {
     "name": "stdout",
     "output_type": "stream",
     "text": [
      "Length of Contained =  9176\n",
      "Length of Color Array =  9176\n"
     ]
    },
    {
     "data": {
      "image/png": "[encoded data removed]",
      "text/plain": [
       "<matplotlib.figure.Figure at 0x7f92c93289d0>"
      ]
     },
     "metadata": {},
     "output_type": "display_data"
    }
   ],
   "source": [
    "import csv\n",
    "import numpy as np\n",
    "import pandas as pd\n",
    "import matplotlib as mpl\n",
    "import matplotlib.patches as mpatches\n",
    "from matplotlib import pyplot as plt\n",
    "\n",
    "mpl.rcParams.update({'font.size': 12})\n",
    "\n",
    "criterion = df_details['status'].map(lambda x: 'Contains' in x)\n",
    "df_contains = df_details[criterion]\n",
    "print \"Length of Contained = \", len(df_contains)\n",
    "\n",
    "star = df_contains['star_identity'].values \n",
    "rmap = df_contains['rmap_identity'].values\n",
    "contains_color = []\n",
    "\n",
    "for i in range(0, len(star)):\n",
    "    diff = star[i] - rmap[i]\n",
    "    if(diff > 0):\n",
    "        contains_color.append('r')\n",
    "    elif(diff == 0):\n",
    "        contains_color.append('g')\n",
    "    else:\n",
    "        contains_color.append('b')\n",
    "    #if(len(color_array) % 100000 == 0):\n",
    "    #    break\n",
    "\n",
    "print \"Length of Color Array = \", len(contains_color)\n",
    "    \n",
    "fig = plt.figure(figsize=(8, 8))\n",
    "ax = fig.add_subplot(111)\n",
    "ax.set_xlabel('STAR Identity', fontsize=16)\n",
    "ax.set_ylabel('RAPMAP Identity', fontsize=16)\n",
    "ax.set_title(\"Scatterplot for Alignment Identity\")\n",
    "\n",
    "ax.set_xlim(30, 60)\n",
    "ax.set_ylim(30, 60)\n",
    "\n",
    "plt.figtext(.15,.8, ftext, fontsize=14, ha='left')\n",
    "plt.scatter(star, rmap, color=contains_color, alpha=0.33, marker='o', label='Contain')\n",
    "\n",
    "patch_one = mpatches.Patch(color='red', label=\"Larger NanoSTAR\")\n",
    "patch_two = mpatches.Patch(color='green', label=\"Equal Identity\")\n",
    "patch_three = mpatches.Patch(color='blue', label=\"Larger STAR\")\n",
    "plt.legend(handles=[patch_one, patch_two, patch_three], loc='upper right')\n",
    "plt.show()\n"
   ]
  },
  {
   "cell_type": "markdown",
   "metadata": {},
   "source": [
    "# Analyzing Set of Outside Reads"
   ]
  },
  {
   "cell_type": "code",
   "execution_count": 99,
   "metadata": {
    "collapsed": false
   },
   "outputs": [
    {
     "name": "stdout",
     "output_type": "stream",
     "text": [
      "Length of Outside =  277529\n",
      "Length of Color Array =  277529\n"
     ]
    },
    {
     "data": {
      "image/png": "[encoded data removed]",
      "text/plain": [
       "<matplotlib.figure.Figure at 0x7f92191abed0>"
      ]
     },
     "metadata": {},
     "output_type": "display_data"
    }
   ],
   "source": [
    "import csv\n",
    "import numpy as np\n",
    "import pandas as pd\n",
    "import matplotlib as mpl\n",
    "import matplotlib.patches as mpatches\n",
    "from matplotlib import pyplot as plt\n",
    "\n",
    "mpl.rcParams.update({'font.size': 12})\n",
    "\n",
    "criterion = df_details['status'].map(lambda x: 'Outside' in x)\n",
    "df_outside = df_details[criterion]\n",
    "print \"Length of Outside = \", len(df_outside)\n",
    "\n",
    "star = df_outside['star_identity'].values \n",
    "rmap = df_outside['rmap_identity'].values\n",
    "outside_color = []\n",
    "\n",
    "for i in range(0, len(star)):\n",
    "    diff = star[i] - rmap[i]\n",
    "    if(diff > 0):\n",
    "        outside_color.append('r')\n",
    "    elif(diff == 0):\n",
    "        outside_color.append('g')\n",
    "    else:\n",
    "        outside_color.append('b')\n",
    "    #if(len(color_array) % 100000 == 0):\n",
    "    #    break\n",
    "\n",
    "print \"Length of Color Array = \", len(outside_color)\n",
    "    \n",
    "fig = plt.figure(figsize=(8, 8))\n",
    "ax = fig.add_subplot(111)\n",
    "ax.set_xlabel('STAR Identity', fontsize=16)\n",
    "ax.set_ylabel('RAPMAP Identity', fontsize=16)\n",
    "ax.set_title(\"Scatterplot for Alignment Identity\")\n",
    "\n",
    "ax.set_xlim(30, 60)\n",
    "ax.set_ylim(30, 60)\n",
    "\n",
    "plt.figtext(.15,.8, ftext, fontsize=14, ha='left')\n",
    "plt.scatter(star, rmap, color=outside_color, alpha=0.33, marker='o', label='Outside')\n",
    "\n",
    "patch_one = mpatches.Patch(color='red', label=\"Larger NanoSTAR\")\n",
    "patch_two = mpatches.Patch(color='green', label=\"Equal Identity\")\n",
    "patch_three = mpatches.Patch(color='blue', label=\"Larger STAR\")\n",
    "plt.legend(handles=[patch_one, patch_two, patch_three], loc='upper right')\n",
    "plt.show()\n"
   ]
  },
  {
   "cell_type": "markdown",
   "metadata": {},
   "source": [
    "# Analyzing Set of Overlap Reads"
   ]
  },
  {
   "cell_type": "code",
   "execution_count": 100,
   "metadata": {
    "collapsed": false
   },
   "outputs": [
    {
     "name": "stdout",
     "output_type": "stream",
     "text": [
      "Length of Overlap =  329331\n",
      "Length of Color Array =  329331\n"
     ]
    },
    {
     "data": {
      "image/png": "[encoded data removed]",
      "text/plain": [
       "<matplotlib.figure.Figure at 0x7f92c913f210>"
      ]
     },
     "metadata": {},
     "output_type": "display_data"
    }
   ],
   "source": [
    "import csv\n",
    "import numpy as np\n",
    "import pandas as pd\n",
    "import matplotlib as mpl\n",
    "import matplotlib.patches as mpatches\n",
    "from matplotlib import pyplot as plt\n",
    "\n",
    "mpl.rcParams.update({'font.size': 12})\n",
    "\n",
    "criterion = df_details['status'].map(lambda x: 'Overlap' in x)\n",
    "df_overlap = df_details[criterion]\n",
    "print \"Length of Overlap = \", len(df_overlap)\n",
    "\n",
    "star = df_overlap['star_identity'].values \n",
    "rmap = df_overlap['rmap_identity'].values\n",
    "overlap_color = []\n",
    "\n",
    "for i in range(0, len(star)):\n",
    "    diff = star[i] - rmap[i]\n",
    "    if(diff > 0):\n",
    "        overlap_color.append('r')\n",
    "    elif(diff == 0):\n",
    "        overlap_color.append('g')\n",
    "    else:\n",
    "        overlap_color.append('b')\n",
    "    #if(len(color_array) % 100000 == 0):\n",
    "    #    break\n",
    "\n",
    "print \"Length of Color Array = \", len(overlap_color)\n",
    "    \n",
    "fig = plt.figure(figsize=(8, 8))\n",
    "ax = fig.add_subplot(111)\n",
    "ax.set_xlabel('STAR Identity', fontsize=16)\n",
    "ax.set_ylabel('RAPMAP Identity', fontsize=16)\n",
    "ax.set_title(\"Scatterplot for Alignment Itentity\")\n",
    "\n",
    "ax.set_xlim(30, 60)\n",
    "ax.set_ylim(30, 60)\n",
    "\n",
    "plt.figtext(.15,.8, ftext, fontsize=14, ha='left')\n",
    "plt.scatter(star, rmap, color=overlap_color, alpha=0.33, marker='o', label='Overlap')\n",
    "\n",
    "patch_one = mpatches.Patch(color='red', label=\"Larger NanoSTAR\")\n",
    "patch_two = mpatches.Patch(color='green', label=\"Equal Identity\")\n",
    "patch_three = mpatches.Patch(color='blue', label=\"Larger STAR\")\n",
    "plt.legend(handles=[patch_one, patch_two, patch_three], loc='upper right')\n",
    "plt.show()\n"
   ]
  },
  {
   "cell_type": "markdown",
   "metadata": {},
   "source": [
    "# Histogram of Only STAR Reads: Reads Aligned to Different Reference or Only Reported by STAR"
   ]
  },
  {
   "cell_type": "code",
   "execution_count": 93,
   "metadata": {
    "collapsed": false
   },
   "outputs": [
    {
     "name": "stdout",
     "output_type": "stream",
     "text": [
      "Mean of %Identity =  99.5186683433\n",
      "Length of STAR =  1181755\n"
     ]
    },
    {
     "data": {
      "image/png": "[encoded data removed]",
      "text/plain": [
       "<matplotlib.figure.Figure at 0x7f92190a3f90>"
      ]
     },
     "metadata": {},
     "output_type": "display_data"
    }
   ],
   "source": [
    "import numpy as np\n",
    "import matplotlib.pyplot as plt\n",
    "fig = plt.figure(figsize=(8, 6))\n",
    "\n",
    "criterion = only_nano['status'].map(lambda x: 'OnlyNano' in x or x.startswith('Different'))\n",
    "only_star = 100.00 * only_nano[criterion]['star_identity']/only_nano[criterion]['star_alignment_len']\n",
    "print \"Mean of %Identity = \", (100.00 * sum(only_nano[criterion]['star_identity'])/\n",
    "                               sum(only_nano[criterion]['star_alignment_len'])) \n",
    "\n",
    "only_star = only_star.values\n",
    "print \"Length of STAR = \", len(only_star)\n",
    "\n",
    "plt.xlabel(\"Accuracy\")\n",
    "plt.ylabel(\"Frequency\")\n",
    "\n",
    "plt.hist(only_star, alpha=0.40, label='STAR')\n",
    "plt.xlim(30, 100)\n",
    "plt.yscale('log', nonposy='clip')\n",
    "\n",
    "plt.legend(loc='upper right')\n",
    "plt.show()"
   ]
  },
  {
   "cell_type": "markdown",
   "metadata": {},
   "source": [
    "# Histogram of Only RAPMAP Reads: Reads Aligned to Different Reference or Only Reported by RAPMAP"
   ]
  },
  {
   "cell_type": "code",
   "execution_count": 95,
   "metadata": {
    "collapsed": false
   },
   "outputs": [
    {
     "name": "stdout",
     "output_type": "stream",
     "text": [
      "Mean of %Identity =  97.6441591629\n",
      "Length of STAR =  195320\n"
     ]
    },
    {
     "data": {
      "image/png": "[encoded data removed]",
      "text/plain": [
       "<matplotlib.figure.Figure at 0x7f92c913f190>"
      ]
     },
     "metadata": {},
     "output_type": "display_data"
    }
   ],
   "source": [
    "import numpy as np\n",
    "import matplotlib.pyplot as plt\n",
    "fig = plt.figure(figsize=(8, 6))\n",
    "\n",
    "criterion = only_last['status'].map(lambda x: 'OnlyLast' in x or x.startswith('Different'))\n",
    "only_rmap = 100.00 * only_last[criterion]['star_identity']/only_last[criterion]['star_alignment_len']\n",
    "print \"Mean of %Identity = \", (100.00 * sum(only_last[criterion]['star_identity'])/\n",
    "                               sum(only_last[criterion]['star_alignment_len'])) \n",
    "\n",
    "only_rmap = only_rmap.values\n",
    "print \"Length of STAR = \", len(only_rmap)\n",
    "\n",
    "plt.xlabel(\"Accuracy\")\n",
    "plt.ylabel(\"Frequency\")\n",
    "\n",
    "plt.hist(only_star, alpha=0.40, color='green', label='RAPMAP')\n",
    "plt.xlim(30, 100)\n",
    "plt.yscale('log', nonposy='clip')\n",
    "\n",
    "plt.legend(loc='upper right')\n",
    "plt.show()"
   ]
  }
 ],
 "metadata": {
  "kernelspec": {
   "display_name": "Python 2",
   "language": "python",
   "name": "python2"
  },
  "language_info": {
   "codemirror_mode": {
    "name": "ipython",
    "version": 2
   },
   "file_extension": ".py",
   "mimetype": "text/x-python",
   "name": "python",
   "nbconvert_exporter": "python",
   "pygments_lexer": "ipython2",
   "version": "2.7.6"
  },
  "widgets": {
   "state": {},
   "version": "1.1.2"
  }
 },
 "nbformat": 4,
 "nbformat_minor": 0
}
